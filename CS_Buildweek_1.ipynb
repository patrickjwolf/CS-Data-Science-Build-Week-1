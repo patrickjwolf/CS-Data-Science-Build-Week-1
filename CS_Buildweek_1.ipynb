{
  "nbformat": 4,
  "nbformat_minor": 0,
  "metadata": {
    "colab": {
      "name": "CS Buildweek 1",
      "provenance": [],
      "collapsed_sections": [],
      "include_colab_link": true
    },
    "kernelspec": {
      "name": "python3",
      "display_name": "Python 3"
    }
  },
  "cells": [
    {
      "cell_type": "markdown",
      "metadata": {
        "id": "view-in-github",
        "colab_type": "text"
      },
      "source": [
        "<a href=\"https://colab.research.google.com/github/patrickjwolf/CS-Data-Science-Build-Week-1/blob/master/CS_Buildweek_1.ipynb\" target=\"_parent\"><img src=\"https://colab.research.google.com/assets/colab-badge.svg\" alt=\"Open In Colab\"/></a>"
      ]
    },
    {
      "cell_type": "code",
      "metadata": {
        "id": "6sYwU1o_bznj",
        "colab_type": "code",
        "colab": {
          "base_uri": "https://localhost:8080/",
          "height": 107
        },
        "outputId": "d7a78c83-ab27-4104-8b63-e221f4813173"
      },
      "source": [
        "%matplotlib inline\n",
        "import matplotlib.pyplot as plt\n",
        "import seaborn as sns; sns.set()  # for plot styling\n",
        "import numpy as np\n",
        "from sklearn.cluster import KMeans\n",
        "from sklearn.datasets.samples_generator import make_blobs"
      ],
      "execution_count": 2,
      "outputs": [
        {
          "output_type": "stream",
          "text": [
            "/usr/local/lib/python3.6/dist-packages/statsmodels/tools/_testing.py:19: FutureWarning: pandas.util.testing is deprecated. Use the functions in the public API at pandas.testing instead.\n",
            "  import pandas.util.testing as tm\n",
            "/usr/local/lib/python3.6/dist-packages/sklearn/utils/deprecation.py:144: FutureWarning: The sklearn.datasets.samples_generator module is  deprecated in version 0.22 and will be removed in version 0.24. The corresponding classes / functions should instead be imported from sklearn.datasets. Anything that cannot be imported from sklearn.datasets is now part of the private API.\n",
            "  warnings.warn(message, FutureWarning)\n"
          ],
          "name": "stderr"
        }
      ]
    },
    {
      "cell_type": "code",
      "metadata": {
        "id": "NCIkDQ1RfK22",
        "colab_type": "code",
        "colab": {}
      },
      "source": [
        "from google.colab import files\n",
        "import pandas as pd\n",
        "import seaborn as sns\n",
        "import numpy as np\n",
        "\n",
        "\n",
        "df = pd.read_csv('https://raw.githubusercontent.com/patrickjwolf/CS-Data-Science-Build-Week-1/master/CS_Build_Week_1.csv')"
      ],
      "execution_count": 4,
      "outputs": []
    },
    {
      "cell_type": "code",
      "metadata": {
        "id": "K7SECM4RfaDq",
        "colab_type": "code",
        "colab": {
          "base_uri": "https://localhost:8080/",
          "height": 197
        },
        "outputId": "b5937a6d-3e8b-45d8-aa93-2ce6bf06ee19"
      },
      "source": [
        "df.head()"
      ],
      "execution_count": 5,
      "outputs": [
        {
          "output_type": "execute_result",
          "data": {
            "text/html": [
              "<div>\n",
              "<style scoped>\n",
              "    .dataframe tbody tr th:only-of-type {\n",
              "        vertical-align: middle;\n",
              "    }\n",
              "\n",
              "    .dataframe tbody tr th {\n",
              "        vertical-align: top;\n",
              "    }\n",
              "\n",
              "    .dataframe thead th {\n",
              "        text-align: right;\n",
              "    }\n",
              "</style>\n",
              "<table border=\"1\" class=\"dataframe\">\n",
              "  <thead>\n",
              "    <tr style=\"text-align: right;\">\n",
              "      <th></th>\n",
              "      <th>Trip #</th>\n",
              "      <th>Date</th>\n",
              "      <th>Day</th>\n",
              "      <th>Pickup Time</th>\n",
              "      <th>Duration(Minutes)</th>\n",
              "      <th>Distance(Miles)</th>\n",
              "      <th>Total</th>\n",
              "      <th>$/Minute</th>\n",
              "      <th>$/Mile</th>\n",
              "    </tr>\n",
              "  </thead>\n",
              "  <tbody>\n",
              "    <tr>\n",
              "      <th>0</th>\n",
              "      <td>1</td>\n",
              "      <td>5/7/2019</td>\n",
              "      <td>Tuesday</td>\n",
              "      <td>1612</td>\n",
              "      <td>8</td>\n",
              "      <td>3.21</td>\n",
              "      <td>3.42</td>\n",
              "      <td>0.427500</td>\n",
              "      <td>1.065421</td>\n",
              "    </tr>\n",
              "    <tr>\n",
              "      <th>1</th>\n",
              "      <td>2</td>\n",
              "      <td>5/7/2019</td>\n",
              "      <td>Tuesday</td>\n",
              "      <td>1723</td>\n",
              "      <td>15</td>\n",
              "      <td>6.09</td>\n",
              "      <td>6.29</td>\n",
              "      <td>0.419333</td>\n",
              "      <td>1.032841</td>\n",
              "    </tr>\n",
              "    <tr>\n",
              "      <th>2</th>\n",
              "      <td>3</td>\n",
              "      <td>5/7/2019</td>\n",
              "      <td>Tuesday</td>\n",
              "      <td>1759</td>\n",
              "      <td>33</td>\n",
              "      <td>14.52</td>\n",
              "      <td>13.95</td>\n",
              "      <td>0.422727</td>\n",
              "      <td>0.960744</td>\n",
              "    </tr>\n",
              "    <tr>\n",
              "      <th>3</th>\n",
              "      <td>4</td>\n",
              "      <td>5/7/2019</td>\n",
              "      <td>Tuesday</td>\n",
              "      <td>1849</td>\n",
              "      <td>8</td>\n",
              "      <td>2.24</td>\n",
              "      <td>3.00</td>\n",
              "      <td>0.375000</td>\n",
              "      <td>1.339286</td>\n",
              "    </tr>\n",
              "    <tr>\n",
              "      <th>4</th>\n",
              "      <td>5</td>\n",
              "      <td>5/7/2019</td>\n",
              "      <td>Tuesday</td>\n",
              "      <td>1906</td>\n",
              "      <td>18</td>\n",
              "      <td>11.29</td>\n",
              "      <td>14.98</td>\n",
              "      <td>0.832222</td>\n",
              "      <td>1.326838</td>\n",
              "    </tr>\n",
              "  </tbody>\n",
              "</table>\n",
              "</div>"
            ],
            "text/plain": [
              "   Trip #      Date      Day  ...  Total  $/Minute    $/Mile\n",
              "0       1  5/7/2019  Tuesday  ...   3.42  0.427500  1.065421\n",
              "1       2  5/7/2019  Tuesday  ...   6.29  0.419333  1.032841\n",
              "2       3  5/7/2019  Tuesday  ...  13.95  0.422727  0.960744\n",
              "3       4  5/7/2019  Tuesday  ...   3.00  0.375000  1.339286\n",
              "4       5  5/7/2019  Tuesday  ...  14.98  0.832222  1.326838\n",
              "\n",
              "[5 rows x 9 columns]"
            ]
          },
          "metadata": {
            "tags": []
          },
          "execution_count": 5
        }
      ]
    },
    {
      "cell_type": "code",
      "metadata": {
        "id": "HztYNVnYnl1y",
        "colab_type": "code",
        "colab": {
          "base_uri": "https://localhost:8080/",
          "height": 52
        },
        "outputId": "c70f085a-ee22-4970-df06-5bfa882e056a"
      },
      "source": [
        "cat_cols = df.columns[df.dtypes=='object']\n",
        "num_cols = df.columns[df.dtypes!='object']\n",
        "\n",
        "print(f'{len(cat_cols)} categorical columns')\n",
        "print(f'{len(num_cols)} numerical columns')"
      ],
      "execution_count": 6,
      "outputs": [
        {
          "output_type": "stream",
          "text": [
            "2 categorical columns\n",
            "7 numerical columns\n"
          ],
          "name": "stdout"
        }
      ]
    },
    {
      "cell_type": "code",
      "metadata": {
        "id": "S7qz-lB7nKYD",
        "colab_type": "code",
        "colab": {
          "base_uri": "https://localhost:8080/",
          "height": 194
        },
        "outputId": "18e20e84-ec3e-456b-b934-bfeba7240b02"
      },
      "source": [
        "# Cast categorical columns to \"category\" data type\n",
        "df[cat_cols] = df[cat_cols].astype('category')\n",
        "\n",
        "df.dtypes"
      ],
      "execution_count": 7,
      "outputs": [
        {
          "output_type": "execute_result",
          "data": {
            "text/plain": [
              "Trip #                  int64\n",
              "Date                 category\n",
              "Day                  category\n",
              "Pickup Time             int64\n",
              "Duration(Minutes)       int64\n",
              "Distance(Miles)       float64\n",
              "Total                 float64\n",
              "$/Minute              float64\n",
              "$/Mile                float64\n",
              "dtype: object"
            ]
          },
          "metadata": {
            "tags": []
          },
          "execution_count": 7
        }
      ]
    },
    {
      "cell_type": "code",
      "metadata": {
        "id": "oYzX6-a6nlqr",
        "colab_type": "code",
        "colab": {
          "base_uri": "https://localhost:8080/",
          "height": 215
        },
        "outputId": "ee371563-4de7-4428-f34c-c37c0cc4f534"
      },
      "source": [
        "for col in cat_cols:\n",
        "  df[col] = df[col].cat.codes\n",
        "\n",
        "print(df.shape)\n",
        "df.head()"
      ],
      "execution_count": 8,
      "outputs": [
        {
          "output_type": "stream",
          "text": [
            "(1044, 9)\n"
          ],
          "name": "stdout"
        },
        {
          "output_type": "execute_result",
          "data": {
            "text/html": [
              "<div>\n",
              "<style scoped>\n",
              "    .dataframe tbody tr th:only-of-type {\n",
              "        vertical-align: middle;\n",
              "    }\n",
              "\n",
              "    .dataframe tbody tr th {\n",
              "        vertical-align: top;\n",
              "    }\n",
              "\n",
              "    .dataframe thead th {\n",
              "        text-align: right;\n",
              "    }\n",
              "</style>\n",
              "<table border=\"1\" class=\"dataframe\">\n",
              "  <thead>\n",
              "    <tr style=\"text-align: right;\">\n",
              "      <th></th>\n",
              "      <th>Trip #</th>\n",
              "      <th>Date</th>\n",
              "      <th>Day</th>\n",
              "      <th>Pickup Time</th>\n",
              "      <th>Duration(Minutes)</th>\n",
              "      <th>Distance(Miles)</th>\n",
              "      <th>Total</th>\n",
              "      <th>$/Minute</th>\n",
              "      <th>$/Mile</th>\n",
              "    </tr>\n",
              "  </thead>\n",
              "  <tbody>\n",
              "    <tr>\n",
              "      <th>0</th>\n",
              "      <td>1</td>\n",
              "      <td>22</td>\n",
              "      <td>5</td>\n",
              "      <td>1612</td>\n",
              "      <td>8</td>\n",
              "      <td>3.21</td>\n",
              "      <td>3.42</td>\n",
              "      <td>0.427500</td>\n",
              "      <td>1.065421</td>\n",
              "    </tr>\n",
              "    <tr>\n",
              "      <th>1</th>\n",
              "      <td>2</td>\n",
              "      <td>22</td>\n",
              "      <td>5</td>\n",
              "      <td>1723</td>\n",
              "      <td>15</td>\n",
              "      <td>6.09</td>\n",
              "      <td>6.29</td>\n",
              "      <td>0.419333</td>\n",
              "      <td>1.032841</td>\n",
              "    </tr>\n",
              "    <tr>\n",
              "      <th>2</th>\n",
              "      <td>3</td>\n",
              "      <td>22</td>\n",
              "      <td>5</td>\n",
              "      <td>1759</td>\n",
              "      <td>33</td>\n",
              "      <td>14.52</td>\n",
              "      <td>13.95</td>\n",
              "      <td>0.422727</td>\n",
              "      <td>0.960744</td>\n",
              "    </tr>\n",
              "    <tr>\n",
              "      <th>3</th>\n",
              "      <td>4</td>\n",
              "      <td>22</td>\n",
              "      <td>5</td>\n",
              "      <td>1849</td>\n",
              "      <td>8</td>\n",
              "      <td>2.24</td>\n",
              "      <td>3.00</td>\n",
              "      <td>0.375000</td>\n",
              "      <td>1.339286</td>\n",
              "    </tr>\n",
              "    <tr>\n",
              "      <th>4</th>\n",
              "      <td>5</td>\n",
              "      <td>22</td>\n",
              "      <td>5</td>\n",
              "      <td>1906</td>\n",
              "      <td>18</td>\n",
              "      <td>11.29</td>\n",
              "      <td>14.98</td>\n",
              "      <td>0.832222</td>\n",
              "      <td>1.326838</td>\n",
              "    </tr>\n",
              "  </tbody>\n",
              "</table>\n",
              "</div>"
            ],
            "text/plain": [
              "   Trip #  Date  Day  Pickup Time  ...  Distance(Miles)  Total  $/Minute    $/Mile\n",
              "0       1    22    5         1612  ...             3.21   3.42  0.427500  1.065421\n",
              "1       2    22    5         1723  ...             6.09   6.29  0.419333  1.032841\n",
              "2       3    22    5         1759  ...            14.52  13.95  0.422727  0.960744\n",
              "3       4    22    5         1849  ...             2.24   3.00  0.375000  1.339286\n",
              "4       5    22    5         1906  ...            11.29  14.98  0.832222  1.326838\n",
              "\n",
              "[5 rows x 9 columns]"
            ]
          },
          "metadata": {
            "tags": []
          },
          "execution_count": 8
        }
      ]
    },
    {
      "cell_type": "code",
      "metadata": {
        "id": "ddNAldRTnmCf",
        "colab_type": "code",
        "colab": {
          "base_uri": "https://localhost:8080/",
          "height": 322
        },
        "outputId": "784cddc0-de5a-4977-a072-075fcb1061d9"
      },
      "source": [
        "df.plot.scatter('Distance(Miles)', '$/Mile', alpha=.1);"
      ],
      "execution_count": 9,
      "outputs": [
        {
          "output_type": "stream",
          "text": [
            "*c* argument looks like a single numeric RGB or RGBA sequence, which should be avoided as value-mapping will have precedence in case its length matches with *x* & *y*.  Please use the *color* keyword-argument or provide a 2-D array with a single row if you intend to specify the same RGB or RGBA value for all points.\n"
          ],
          "name": "stderr"
        },
        {
          "output_type": "display_data",
          "data": {
            "image/png": "[encoded data removed]",
            "text/plain": [
              "<Figure size 432x288 with 1 Axes>"
            ]
          },
          "metadata": {
            "tags": []
          }
        }
      ]
    },
    {
      "cell_type": "code",
      "metadata": {
        "id": "h5lOzA5imY8O",
        "colab_type": "code",
        "colab": {
          "base_uri": "https://localhost:8080/",
          "height": 322
        },
        "outputId": "00930ea1-83d8-4ead-9338-5b3db9784744"
      },
      "source": [
        "df.plot.scatter('Duration(Minutes)', '$/Minute', alpha=.1);"
      ],
      "execution_count": 10,
      "outputs": [
        {
          "output_type": "stream",
          "text": [
            "*c* argument looks like a single numeric RGB or RGBA sequence, which should be avoided as value-mapping will have precedence in case its length matches with *x* & *y*.  Please use the *color* keyword-argument or provide a 2-D array with a single row if you intend to specify the same RGB or RGBA value for all points.\n"
          ],
          "name": "stderr"
        },
        {
          "output_type": "display_data",
          "data": {
            "image/png": "[encoded data removed]",
            "text/plain": [
              "<Figure size 432x288 with 1 Axes>"
            ]
          },
          "metadata": {
            "tags": []
          }
        }
      ]
    },
    {
      "cell_type": "code",
      "metadata": {
        "id": "4A8S7G-7iHxx",
        "colab_type": "code",
        "colab": {}
      },
      "source": [
        "from sklearn.cluster import KMeans\n"
      ],
      "execution_count": 11,
      "outputs": []
    },
    {
      "cell_type": "code",
      "metadata": {
        "id": "hBo0UoN7jCQQ",
        "colab_type": "code",
        "colab": {}
      },
      "source": [
        "K = range(1,11)\n",
        "\n",
        "distortion = []\n",
        "for k in K:\n",
        "  kmeans = KMeans(k)"
      ],
      "execution_count": 12,
      "outputs": []
    },
    {
      "cell_type": "code",
      "metadata": {
        "id": "RvQcX0CtmoEp",
        "colab_type": "code",
        "colab": {
          "base_uri": "https://localhost:8080/",
          "height": 194
        },
        "outputId": "d9d9ec6e-2ae9-4a1e-a08a-3a1f84e4d2cb"
      },
      "source": [
        "for k in K:\n",
        "  kmeans = KMeans(n_clusters = k)\n",
        "  kmeans.fit(df)\n",
        "  distortion.append(kmeans.inertia_)\n",
        "distortion"
      ],
      "execution_count": 13,
      "outputs": [
        {
          "output_type": "execute_result",
          "data": {
            "text/plain": [
              "[785120766.6281774,\n",
              " 185778357.2294785,\n",
              " 119176579.86516643,\n",
              " 88097454.30667466,\n",
              " 66301569.40066837,\n",
              " 54831036.861636534,\n",
              " 47348074.75762335,\n",
              " 40989002.22543492,\n",
              " 36324385.80518231,\n",
              " 31766738.19412583]"
            ]
          },
          "metadata": {
            "tags": []
          },
          "execution_count": 13
        }
      ]
    },
    {
      "cell_type": "code",
      "metadata": {
        "id": "roFtg48Fmu9r",
        "colab_type": "code",
        "colab": {
          "base_uri": "https://localhost:8080/",
          "height": 284
        },
        "outputId": "76fb2ec1-6822-4912-8cea-ae1d18e1f39d"
      },
      "source": [
        "plt.plot(K, distortion, 'bx-')\n",
        "plt.title(\"Elbow plot for X\")\n",
        "\n",
        "plt.show()"
      ],
      "execution_count": 14,
      "outputs": [
        {
          "output_type": "display_data",
          "data": {
            "image/png": "[encoded data removed]",
            "text/plain": [
              "<Figure size 432x288 with 1 Axes>"
            ]
          },
          "metadata": {
            "tags": []
          }
        }
      ]
    },
    {
      "cell_type": "code",
      "metadata": {
        "id": "9R272zmRo_fH",
        "colab_type": "code",
        "colab": {
          "base_uri": "https://localhost:8080/",
          "height": 34
        },
        "outputId": "df3ea85a-26e3-4881-e4cf-aabcbbcb5ebf"
      },
      "source": [
        "kmeans = KMeans(n_clusters=4)\n",
        "kmeans.fit(df)\n",
        "labels = kmeans.labels_\n",
        "print(labels)"
      ],
      "execution_count": 15,
      "outputs": [
        {
          "output_type": "stream",
          "text": [
            "[1 1 1 ... 3 3 3]\n"
          ],
          "name": "stdout"
        }
      ]
    },
    {
      "cell_type": "code",
      "metadata": {
        "id": "eGSY8mpipE-k",
        "colab_type": "code",
        "colab": {
          "base_uri": "https://localhost:8080/",
          "height": 197
        },
        "outputId": "4713bfc0-e32b-4ac0-932f-cfab2767e6d6"
      },
      "source": [
        "new_series = pd.Series(labels)\n",
        "df['clusters'] = new_series.values\n",
        "\n",
        "df.head()"
      ],
      "execution_count": 16,
      "outputs": [
        {
          "output_type": "execute_result",
          "data": {
            "text/html": [
              "<div>\n",
              "<style scoped>\n",
              "    .dataframe tbody tr th:only-of-type {\n",
              "        vertical-align: middle;\n",
              "    }\n",
              "\n",
              "    .dataframe tbody tr th {\n",
              "        vertical-align: top;\n",
              "    }\n",
              "\n",
              "    .dataframe thead th {\n",
              "        text-align: right;\n",
              "    }\n",
              "</style>\n",
              "<table border=\"1\" class=\"dataframe\">\n",
              "  <thead>\n",
              "    <tr style=\"text-align: right;\">\n",
              "      <th></th>\n",
              "      <th>Trip #</th>\n",
              "      <th>Date</th>\n",
              "      <th>Day</th>\n",
              "      <th>Pickup Time</th>\n",
              "      <th>Duration(Minutes)</th>\n",
              "      <th>Distance(Miles)</th>\n",
              "      <th>Total</th>\n",
              "      <th>$/Minute</th>\n",
              "      <th>$/Mile</th>\n",
              "      <th>clusters</th>\n",
              "    </tr>\n",
              "  </thead>\n",
              "  <tbody>\n",
              "    <tr>\n",
              "      <th>0</th>\n",
              "      <td>1</td>\n",
              "      <td>22</td>\n",
              "      <td>5</td>\n",
              "      <td>1612</td>\n",
              "      <td>8</td>\n",
              "      <td>3.21</td>\n",
              "      <td>3.42</td>\n",
              "      <td>0.427500</td>\n",
              "      <td>1.065421</td>\n",
              "      <td>1</td>\n",
              "    </tr>\n",
              "    <tr>\n",
              "      <th>1</th>\n",
              "      <td>2</td>\n",
              "      <td>22</td>\n",
              "      <td>5</td>\n",
              "      <td>1723</td>\n",
              "      <td>15</td>\n",
              "      <td>6.09</td>\n",
              "      <td>6.29</td>\n",
              "      <td>0.419333</td>\n",
              "      <td>1.032841</td>\n",
              "      <td>1</td>\n",
              "    </tr>\n",
              "    <tr>\n",
              "      <th>2</th>\n",
              "      <td>3</td>\n",
              "      <td>22</td>\n",
              "      <td>5</td>\n",
              "      <td>1759</td>\n",
              "      <td>33</td>\n",
              "      <td>14.52</td>\n",
              "      <td>13.95</td>\n",
              "      <td>0.422727</td>\n",
              "      <td>0.960744</td>\n",
              "      <td>1</td>\n",
              "    </tr>\n",
              "    <tr>\n",
              "      <th>3</th>\n",
              "      <td>4</td>\n",
              "      <td>22</td>\n",
              "      <td>5</td>\n",
              "      <td>1849</td>\n",
              "      <td>8</td>\n",
              "      <td>2.24</td>\n",
              "      <td>3.00</td>\n",
              "      <td>0.375000</td>\n",
              "      <td>1.339286</td>\n",
              "      <td>1</td>\n",
              "    </tr>\n",
              "    <tr>\n",
              "      <th>4</th>\n",
              "      <td>5</td>\n",
              "      <td>22</td>\n",
              "      <td>5</td>\n",
              "      <td>1906</td>\n",
              "      <td>18</td>\n",
              "      <td>11.29</td>\n",
              "      <td>14.98</td>\n",
              "      <td>0.832222</td>\n",
              "      <td>1.326838</td>\n",
              "      <td>1</td>\n",
              "    </tr>\n",
              "  </tbody>\n",
              "</table>\n",
              "</div>"
            ],
            "text/plain": [
              "   Trip #  Date  Day  Pickup Time  ...  Total  $/Minute    $/Mile  clusters\n",
              "0       1    22    5         1612  ...   3.42  0.427500  1.065421         1\n",
              "1       2    22    5         1723  ...   6.29  0.419333  1.032841         1\n",
              "2       3    22    5         1759  ...  13.95  0.422727  0.960744         1\n",
              "3       4    22    5         1849  ...   3.00  0.375000  1.339286         1\n",
              "4       5    22    5         1906  ...  14.98  0.832222  1.326838         1\n",
              "\n",
              "[5 rows x 10 columns]"
            ]
          },
          "metadata": {
            "tags": []
          },
          "execution_count": 16
        }
      ]
    },
    {
      "cell_type": "code",
      "metadata": {
        "id": "DdHO1xbtpKJe",
        "colab_type": "code",
        "colab": {}
      },
      "source": [
        "def get_centroids(df, column_header):\n",
        "  new_centroids = df.groupby(column_header).mean()\n",
        "  return new_centroids"
      ],
      "execution_count": 17,
      "outputs": []
    },
    {
      "cell_type": "code",
      "metadata": {
        "id": "_4GuB8Y0pOsC",
        "colab_type": "code",
        "colab": {}
      },
      "source": [
        "centroids = get_centroids(df, 'clusters')"
      ],
      "execution_count": 18,
      "outputs": []
    },
    {
      "cell_type": "code",
      "metadata": {
        "id": "6F5CXKgOpxUh",
        "colab_type": "code",
        "colab": {
          "base_uri": "https://localhost:8080/",
          "height": 158
        },
        "outputId": "b4b4d550-e6cb-4f29-cec9-9b038187c082"
      },
      "source": [
        "print(centroids)"
      ],
      "execution_count": 19,
      "outputs": [
        {
          "output_type": "stream",
          "text": [
            "              Trip #       Date       Day  ...     Total  $/Minute    $/Mile\n",
            "clusters                                   ...                              \n",
            "0         678.429851  35.253731  2.752239  ...  9.907164  0.755854  1.563365\n",
            "1         221.453333  12.300000  2.886667  ...  8.952600  0.672229  1.705803\n",
            "2         250.126812  15.351449  3.097826  ...  9.549275  0.701834  1.463715\n",
            "3         766.289753  37.879859  2.773852  ...  9.487350  0.667821  1.644849\n",
            "\n",
            "[4 rows x 9 columns]\n"
          ],
          "name": "stdout"
        }
      ]
    },
    {
      "cell_type": "code",
      "metadata": {
        "id": "3jpxoU62tmFK",
        "colab_type": "code",
        "colab": {
          "base_uri": "https://localhost:8080/",
          "height": 194
        },
        "outputId": "81a6e70c-35d5-48ca-ad3b-9de8b5f84925"
      },
      "source": [
        "print (centroids.iloc[0])\n"
      ],
      "execution_count": 20,
      "outputs": [
        {
          "output_type": "stream",
          "text": [
            "Trip #               678.429851\n",
            "Date                  35.253731\n",
            "Day                    2.752239\n",
            "Pickup Time          257.110448\n",
            "Duration(Minutes)     13.764179\n",
            "Distance(Miles)        8.894388\n",
            "Total                  9.907164\n",
            "$/Minute               0.755854\n",
            "$/Mile                 1.563365\n",
            "Name: 0, dtype: float64\n"
          ],
          "name": "stdout"
        }
      ]
    },
    {
      "cell_type": "code",
      "metadata": {
        "id": "9lzHK4BwqOYr",
        "colab_type": "code",
        "colab": {}
      },
      "source": [
        "def plot_clusters(df, column_header, centroids):\n",
        " colors = {0:'green', 1:'orange', 2:'red', 3:'yellow'}\n",
        " fig, ax = plt.subplots()\n",
        " grouped = df.groupby(column_header)\n",
        " for key, group in grouped:\n",
        "     group.plot(ax=ax, kind='scatter', x='Duration(Minutes)', y='$/Minute', label=key, color=colors[key])\n",
        " ax.plot(centroids.iloc[0].x, centroids.iloc[0].y, \"ok\")\n",
        " ax.plot(centroids.iloc[1].x, centroids.iloc[1].y, \"ok\")\n",
        " ax.plot(centroids.iloc[2].x, centroids.iloc[2].y, \"ok\")\n",
        " ax.plot(centroids.iloc[3].x, centroids.iloc[3].y, \"ok\")\n",
        " ax.set_aspect('equal')\n",
        " plt.show()"
      ],
      "execution_count": 21,
      "outputs": []
    },
    {
      "cell_type": "code",
      "metadata": {
        "id": "W0z1a2f5z2sg",
        "colab_type": "code",
        "colab": {}
      },
      "source": [
        "def plot_clusters(df, column_header, centroids):\n",
        " colors = {0:'red', 1:'green', 2:'yellow', 3:'orange'}\n",
        " fig, ax = plt.subplots()\n",
        " ax = sns.scatterplot(x='Duration(Minutes)', y='$/Minute', data=centroids)\n",
        " ax.set_aspect('equal')\n",
        " grouped = df.groupby(column_header)\n",
        " for key, group in grouped:\n",
        "     group.plot(ax=ax, kind='scatter', x='Duration(Minutes)', y='$/Minute', label=key, color=colors[key])\n",
        " plt.show()"
      ],
      "execution_count": 22,
      "outputs": []
    },
    {
      "cell_type": "code",
      "metadata": {
        "id": "fqn7Cya0D8Ku",
        "colab_type": "code",
        "colab": {
          "base_uri": "https://localhost:8080/",
          "height": 137
        },
        "outputId": "874e4833-8eb2-432f-c80f-bc7a95f259b1"
      },
      "source": [
        "plot_clusters(df, 'clusters', centroids)"
      ],
      "execution_count": 23,
      "outputs": [
        {
          "output_type": "display_data",
          "data": {
            "image/png": "[encoded data removed]",
            "text/plain": [
              "<Figure size 432x288 with 1 Axes>"
            ]
          },
          "metadata": {
            "tags": []
          }
        }
      ]
    },
    {
      "cell_type": "code",
      "metadata": {
        "id": "lXeuiVTG-565",
        "colab_type": "code",
        "colab": {}
      },
      "source": [
        "colors = {0:'green', 1:'orange', 2:'red', 3:'yellow'}\n"
      ],
      "execution_count": 24,
      "outputs": []
    },
    {
      "cell_type": "code",
      "metadata": {
        "id": "ifCBSd5KGFTl",
        "colab_type": "code",
        "colab": {}
      },
      "source": [
        "condition = (df['clusters'] == 0)\n",
        "condition1= (df['clusters'] == 1)\n",
        "condition2= (df['clusters'] == 2)\n",
        "condition3= (df['clusters'] == 3)"
      ],
      "execution_count": 25,
      "outputs": []
    },
    {
      "cell_type": "code",
      "metadata": {
        "id": "Grv1m1zzGdvb",
        "colab_type": "code",
        "colab": {}
      },
      "source": [
        "green = df[condition]\n",
        "orange= df[condition1]\n",
        "red= df[condition2]\n",
        "yellow= df[condition3]"
      ],
      "execution_count": 26,
      "outputs": []
    },
    {
      "cell_type": "code",
      "metadata": {
        "id": "uebBvmbJrMp6",
        "colab_type": "code",
        "colab": {
          "base_uri": "https://localhost:8080/",
          "height": 321
        },
        "outputId": "8d16958d-fb02-4641-e3a5-ebf45d921346"
      },
      "source": [
        "sns.set_style(\"white\")\n",
        "ax = sns.scatterplot(x='Duration(Minutes)', y='$/Minute', alpha=.1, data=green, color= 'green')\n",
        "ax = sns.scatterplot(x='Duration(Minutes)', y='$/Minute', alpha=.1, data=orange, color= 'orange')\n",
        "ax = sns.scatterplot(x='Duration(Minutes)', y='$/Minute', alpha=.1, data=red, color= 'red')\n",
        "ax = sns.scatterplot(x='Duration(Minutes)', y='$/Minute', alpha=.1, data=yellow, color= 'yellow')\n",
        "ax = sns.scatterplot(x='Duration(Minutes)', y='$/Minute', data=centroids, color='black')\n",
        "\n",
        "plt.xlabel('Duration(Minutes)')\n",
        "plt.ylabel('$/Minute')\n",
        "plt.title(\"Uber trips Duration to Dollars\", fontsize=15)"
      ],
      "execution_count": 27,
      "outputs": [
        {
          "output_type": "execute_result",
          "data": {
            "text/plain": [
              "Text(0.5, 1.0, 'Uber trips Duration to Dollars')"
            ]
          },
          "metadata": {
            "tags": []
          },
          "execution_count": 27
        },
        {
          "output_type": "display_data",
          "data": {
            "image/png": "[encoded data removed]",
            "text/plain": [
              "<Figure size 432x288 with 1 Axes>"
            ]
          },
          "metadata": {
            "tags": []
          }
        }
      ]
    },
    {
      "cell_type": "code",
      "metadata": {
        "id": "cgUdnWkMGZQC",
        "colab_type": "code",
        "colab": {
          "base_uri": "https://localhost:8080/",
          "height": 321
        },
        "outputId": "f6e37d73-4858-4073-fb8d-2201a0db8f74"
      },
      "source": [
        "sns.set_style(\"white\")\n",
        "ax = sns.scatterplot(x='Distance(Miles)', y='$/Mile', alpha=.1, data=green, color= 'green')\n",
        "ax = sns.scatterplot(x='Distance(Miles)', y='$/Mile', alpha=.1, data=orange, color= 'orange')\n",
        "ax = sns.scatterplot(x='Distance(Miles)', y='$/Mile', alpha=.1, data=red, color= 'red')\n",
        "ax = sns.scatterplot(x='Distance(Miles)', y='$/Mile', alpha=.1, data=yellow, color= 'yellow')\n",
        "ax = sns.scatterplot(x='Distance(Miles)', y='$/Mile', data=centroids, color='black')\n",
        "\n",
        "plt.xlabel('Distance(Miles)')\n",
        "plt.ylabel('$/Mile')\n",
        "plt.title(\"Uber trips Distance to Dollars\", fontsize=15)"
      ],
      "execution_count": 29,
      "outputs": [
        {
          "output_type": "execute_result",
          "data": {
            "text/plain": [
              "Text(0.5, 1.0, 'Uber trips Distance to Dollars')"
            ]
          },
          "metadata": {
            "tags": []
          },
          "execution_count": 29
        },
        {
          "output_type": "display_data",
          "data": {
            "image/png": "[encoded data removed]",
            "text/plain": [
              "<Figure size 432x288 with 1 Axes>"
            ]
          },
          "metadata": {
            "tags": []
          }
        }
      ]
    },
    {
      "cell_type": "code",
      "metadata": {
        "id": "2OFIrWTeHdHb",
        "colab_type": "code",
        "colab": {
          "base_uri": "https://localhost:8080/",
          "height": 321
        },
        "outputId": "c7a7b937-7ce8-4a1c-de19-5e28804cd672"
      },
      "source": [
        "sns.set_style(\"white\")\n",
        "ax = sns.scatterplot(x='Distance(Miles)', y='Duration(Minutes)', alpha=.1, data=green, color= 'green')\n",
        "ax = sns.scatterplot(x='Distance(Miles)', y='Duration(Minutes)', alpha=.1, data=orange, color= 'orange')\n",
        "ax = sns.scatterplot(x='Distance(Miles)', y='Duration(Minutes)', alpha=.1, data=red, color= 'red')\n",
        "ax = sns.scatterplot(x='Distance(Miles)', y='Duration(Minutes)', alpha=.1, data=yellow, color= 'yellow')\n",
        "ax = sns.scatterplot(x='Distance(Miles)', y='Duration(Minutes)', data=centroids, color='black')\n",
        "\n",
        "plt.xlabel('Distance(Miles)')\n",
        "plt.ylabel('Duration(Minutes)')\n",
        "plt.title(\"Uber trips Distance to Duration\", fontsize=15)"
      ],
      "execution_count": 31,
      "outputs": [
        {
          "output_type": "execute_result",
          "data": {
            "text/plain": [
              "Text(0.5, 1.0, 'Uber trips Distance to Duration')"
            ]
          },
          "metadata": {
            "tags": []
          },
          "execution_count": 31
        },
        {
          "output_type": "display_data",
          "data": {
            "image/png": "[encoded data removed]",
            "text/plain": [
              "<Figure size 432x288 with 1 Axes>"
            ]
          },
          "metadata": {
            "tags": []
          }
        }
      ]
    },
    {
      "cell_type": "code",
      "metadata": {
        "id": "zVbrVIYaO-KP",
        "colab_type": "code",
        "colab": {}
      },
      "source": [
        ""
      ],
      "execution_count": null,
      "outputs": []
    },
    {
      "cell_type": "code",
      "metadata": {
        "id": "BiLqbvXqPm47",
        "colab_type": "code",
        "colab": {
          "base_uri": "https://localhost:8080/",
          "height": 488
        },
        "outputId": "ef532ea7-0832-41cb-8f2c-c9f40855d830"
      },
      "source": [
        "# Create scatterplot with coloring based on assigned labels\n",
        "# Trip #\tDate\tDay\tPickup Time\tDuration(Minutes)\tDistance(Miles)\tTotal\t$/Minute\t$/Mile\tclusters\n",
        "colors = {0:'red', 1:'blue', 2:'green'}\n",
        "fig, ax = plt.subplots()\n",
        "grouped = df.groupby('clusters')\n",
        "for key, group in grouped:\n",
        "    group.plot(ax=ax, kind='scatter', x='Duration(Minutes)', y='$/Minute', label=key, color=colors[key])\n",
        "plt.show()      "
      ],
      "execution_count": 32,
      "outputs": [
        {
          "output_type": "error",
          "ename": "KeyError",
          "evalue": "ignored",
          "traceback": [
            "\u001b[0;31m---------------------------------------------------------------------------\u001b[0m",
            "\u001b[0;31mKeyError\u001b[0m                                  Traceback (most recent call last)",
            "\u001b[0;32m<ipython-input-32-2974db658d29>\u001b[0m in \u001b[0;36m<module>\u001b[0;34m()\u001b[0m\n\u001b[1;32m      5\u001b[0m \u001b[0mgrouped\u001b[0m \u001b[0;34m=\u001b[0m \u001b[0mdf\u001b[0m\u001b[0;34m.\u001b[0m\u001b[0mgroupby\u001b[0m\u001b[0;34m(\u001b[0m\u001b[0;34m'clusters'\u001b[0m\u001b[0;34m)\u001b[0m\u001b[0;34m\u001b[0m\u001b[0;34m\u001b[0m\u001b[0m\n\u001b[1;32m      6\u001b[0m \u001b[0;32mfor\u001b[0m \u001b[0mkey\u001b[0m\u001b[0;34m,\u001b[0m \u001b[0mgroup\u001b[0m \u001b[0;32min\u001b[0m \u001b[0mgrouped\u001b[0m\u001b[0;34m:\u001b[0m\u001b[0;34m\u001b[0m\u001b[0;34m\u001b[0m\u001b[0m\n\u001b[0;32m----> 7\u001b[0;31m     \u001b[0mgroup\u001b[0m\u001b[0;34m.\u001b[0m\u001b[0mplot\u001b[0m\u001b[0;34m(\u001b[0m\u001b[0max\u001b[0m\u001b[0;34m=\u001b[0m\u001b[0max\u001b[0m\u001b[0;34m,\u001b[0m \u001b[0mkind\u001b[0m\u001b[0;34m=\u001b[0m\u001b[0;34m'scatter'\u001b[0m\u001b[0;34m,\u001b[0m \u001b[0mx\u001b[0m\u001b[0;34m=\u001b[0m\u001b[0;34m'Duration(Minutes)'\u001b[0m\u001b[0;34m,\u001b[0m \u001b[0my\u001b[0m\u001b[0;34m=\u001b[0m\u001b[0;34m'$/Minute'\u001b[0m\u001b[0;34m,\u001b[0m \u001b[0mlabel\u001b[0m\u001b[0;34m=\u001b[0m\u001b[0mkey\u001b[0m\u001b[0;34m,\u001b[0m \u001b[0mcolor\u001b[0m\u001b[0;34m=\u001b[0m\u001b[0mcolors\u001b[0m\u001b[0;34m[\u001b[0m\u001b[0mkey\u001b[0m\u001b[0;34m]\u001b[0m\u001b[0;34m)\u001b[0m\u001b[0;34m\u001b[0m\u001b[0;34m\u001b[0m\u001b[0m\n\u001b[0m\u001b[1;32m      8\u001b[0m \u001b[0mplt\u001b[0m\u001b[0;34m.\u001b[0m\u001b[0mshow\u001b[0m\u001b[0;34m(\u001b[0m\u001b[0;34m)\u001b[0m\u001b[0;34m\u001b[0m\u001b[0;34m\u001b[0m\u001b[0m\n",
            "\u001b[0;31mKeyError\u001b[0m: 3"
          ]
        },
        {
          "output_type": "display_data",
          "data": {
            "image/png": "[encoded data removed]",
            "text/plain": [
              "<Figure size 432x288 with 1 Axes>"
            ]
          },
          "metadata": {
            "tags": []
          }
        }
      ]
    },
    {
      "cell_type": "code",
      "metadata": {
        "id": "kWP0IuyQPnJs",
        "colab_type": "code",
        "colab": {}
      },
      "source": [
        ""
      ],
      "execution_count": null,
      "outputs": []
    },
    {
      "cell_type": "code",
      "metadata": {
        "id": "qZ8S0JmMO_Jy",
        "colab_type": "code",
        "colab": {
          "base_uri": "https://localhost:8080/",
          "height": 197
        },
        "outputId": "8e09a941-2dcf-47c5-9386-b376cba2673b"
      },
      "source": [
        "# Drop clusters to prove that this is truly unsupervised learning\n",
        "points = df.drop('clusters', axis=1)\n",
        "points.head()"
      ],
      "execution_count": 33,
      "outputs": [
        {
          "output_type": "execute_result",
          "data": {
            "text/html": [
              "<div>\n",
              "<style scoped>\n",
              "    .dataframe tbody tr th:only-of-type {\n",
              "        vertical-align: middle;\n",
              "    }\n",
              "\n",
              "    .dataframe tbody tr th {\n",
              "        vertical-align: top;\n",
              "    }\n",
              "\n",
              "    .dataframe thead th {\n",
              "        text-align: right;\n",
              "    }\n",
              "</style>\n",
              "<table border=\"1\" class=\"dataframe\">\n",
              "  <thead>\n",
              "    <tr style=\"text-align: right;\">\n",
              "      <th></th>\n",
              "      <th>Trip #</th>\n",
              "      <th>Date</th>\n",
              "      <th>Day</th>\n",
              "      <th>Pickup Time</th>\n",
              "      <th>Duration(Minutes)</th>\n",
              "      <th>Distance(Miles)</th>\n",
              "      <th>Total</th>\n",
              "      <th>$/Minute</th>\n",
              "      <th>$/Mile</th>\n",
              "    </tr>\n",
              "  </thead>\n",
              "  <tbody>\n",
              "    <tr>\n",
              "      <th>0</th>\n",
              "      <td>1</td>\n",
              "      <td>22</td>\n",
              "      <td>5</td>\n",
              "      <td>1612</td>\n",
              "      <td>8</td>\n",
              "      <td>3.21</td>\n",
              "      <td>3.42</td>\n",
              "      <td>0.427500</td>\n",
              "      <td>1.065421</td>\n",
              "    </tr>\n",
              "    <tr>\n",
              "      <th>1</th>\n",
              "      <td>2</td>\n",
              "      <td>22</td>\n",
              "      <td>5</td>\n",
              "      <td>1723</td>\n",
              "      <td>15</td>\n",
              "      <td>6.09</td>\n",
              "      <td>6.29</td>\n",
              "      <td>0.419333</td>\n",
              "      <td>1.032841</td>\n",
              "    </tr>\n",
              "    <tr>\n",
              "      <th>2</th>\n",
              "      <td>3</td>\n",
              "      <td>22</td>\n",
              "      <td>5</td>\n",
              "      <td>1759</td>\n",
              "      <td>33</td>\n",
              "      <td>14.52</td>\n",
              "      <td>13.95</td>\n",
              "      <td>0.422727</td>\n",
              "      <td>0.960744</td>\n",
              "    </tr>\n",
              "    <tr>\n",
              "      <th>3</th>\n",
              "      <td>4</td>\n",
              "      <td>22</td>\n",
              "      <td>5</td>\n",
              "      <td>1849</td>\n",
              "      <td>8</td>\n",
              "      <td>2.24</td>\n",
              "      <td>3.00</td>\n",
              "      <td>0.375000</td>\n",
              "      <td>1.339286</td>\n",
              "    </tr>\n",
              "    <tr>\n",
              "      <th>4</th>\n",
              "      <td>5</td>\n",
              "      <td>22</td>\n",
              "      <td>5</td>\n",
              "      <td>1906</td>\n",
              "      <td>18</td>\n",
              "      <td>11.29</td>\n",
              "      <td>14.98</td>\n",
              "      <td>0.832222</td>\n",
              "      <td>1.326838</td>\n",
              "    </tr>\n",
              "  </tbody>\n",
              "</table>\n",
              "</div>"
            ],
            "text/plain": [
              "   Trip #  Date  Day  Pickup Time  ...  Distance(Miles)  Total  $/Minute    $/Mile\n",
              "0       1    22    5         1612  ...             3.21   3.42  0.427500  1.065421\n",
              "1       2    22    5         1723  ...             6.09   6.29  0.419333  1.032841\n",
              "2       3    22    5         1759  ...            14.52  13.95  0.422727  0.960744\n",
              "3       4    22    5         1849  ...             2.24   3.00  0.375000  1.339286\n",
              "4       5    22    5         1906  ...            11.29  14.98  0.832222  1.326838\n",
              "\n",
              "[5 rows x 9 columns]"
            ]
          },
          "metadata": {
            "tags": []
          },
          "execution_count": 33
        }
      ]
    },
    {
      "cell_type": "code",
      "metadata": {
        "id": "QaEUpt7CO_ZI",
        "colab_type": "code",
        "colab": {}
      },
      "source": [
        "import math\n",
        "import numpy as np\n",
        "from scipy.spatial import distance\n",
        "\n",
        "# Calculate the Nearest Centroid to each data point\n",
        "def find_nearest_centroid(df, centroids, iteration):\n",
        " \n",
        "  # calculate the distances between each point and each centroid\n",
        "  distances = distance.cdist(df, centroids, 'euclidean')\n",
        "  \n",
        "  # Get nearest centroid to each point based on distance\n",
        "  nearest_centroids = np.argmin(distances, axis=1)\n",
        "\n",
        "  se = pd.Series(nearest_centroids)\n",
        "  df['cluster_'+iteration] = se.values\n",
        "  \n",
        "  return df"
      ],
      "execution_count": 34,
      "outputs": []
    },
    {
      "cell_type": "code",
      "metadata": {
        "id": "ACmU-SzWoJ6-",
        "colab_type": "code",
        "colab": {
          "base_uri": "https://localhost:8080/",
          "height": 334
        },
        "outputId": "a55c50de-bb24-447c-9e33-99d33ed6dfe2"
      },
      "source": [
        "first_pass = find_nearest_centroid(points.select_dtypes(exclude='int64'), centroids, '1')\n",
        "first_pass.head()"
      ],
      "execution_count": 35,
      "outputs": [
        {
          "output_type": "error",
          "ename": "ValueError",
          "evalue": "ignored",
          "traceback": [
            "\u001b[0;31m---------------------------------------------------------------------------\u001b[0m",
            "\u001b[0;31mValueError\u001b[0m                                Traceback (most recent call last)",
            "\u001b[0;32m<ipython-input-35-4ae46d533bf6>\u001b[0m in \u001b[0;36m<module>\u001b[0;34m()\u001b[0m\n\u001b[0;32m----> 1\u001b[0;31m \u001b[0mfirst_pass\u001b[0m \u001b[0;34m=\u001b[0m \u001b[0mfind_nearest_centroid\u001b[0m\u001b[0;34m(\u001b[0m\u001b[0mpoints\u001b[0m\u001b[0;34m.\u001b[0m\u001b[0mselect_dtypes\u001b[0m\u001b[0;34m(\u001b[0m\u001b[0mexclude\u001b[0m\u001b[0;34m=\u001b[0m\u001b[0;34m'int64'\u001b[0m\u001b[0;34m)\u001b[0m\u001b[0;34m,\u001b[0m \u001b[0mcentroids\u001b[0m\u001b[0;34m,\u001b[0m \u001b[0;34m'1'\u001b[0m\u001b[0;34m)\u001b[0m\u001b[0;34m\u001b[0m\u001b[0;34m\u001b[0m\u001b[0m\n\u001b[0m\u001b[1;32m      2\u001b[0m \u001b[0mfirst_pass\u001b[0m\u001b[0;34m.\u001b[0m\u001b[0mhead\u001b[0m\u001b[0;34m(\u001b[0m\u001b[0;34m)\u001b[0m\u001b[0;34m\u001b[0m\u001b[0;34m\u001b[0m\u001b[0m\n",
            "\u001b[0;32m<ipython-input-34-03c10b26eecb>\u001b[0m in \u001b[0;36mfind_nearest_centroid\u001b[0;34m(df, centroids, iteration)\u001b[0m\n\u001b[1;32m      7\u001b[0m \u001b[0;34m\u001b[0m\u001b[0m\n\u001b[1;32m      8\u001b[0m   \u001b[0;31m# calculate the distances between each point and each centroid\u001b[0m\u001b[0;34m\u001b[0m\u001b[0;34m\u001b[0m\u001b[0;34m\u001b[0m\u001b[0m\n\u001b[0;32m----> 9\u001b[0;31m   \u001b[0mdistances\u001b[0m \u001b[0;34m=\u001b[0m \u001b[0mdistance\u001b[0m\u001b[0;34m.\u001b[0m\u001b[0mcdist\u001b[0m\u001b[0;34m(\u001b[0m\u001b[0mdf\u001b[0m\u001b[0;34m,\u001b[0m \u001b[0mcentroids\u001b[0m\u001b[0;34m,\u001b[0m \u001b[0;34m'euclidean'\u001b[0m\u001b[0;34m)\u001b[0m\u001b[0;34m\u001b[0m\u001b[0;34m\u001b[0m\u001b[0m\n\u001b[0m\u001b[1;32m     10\u001b[0m \u001b[0;34m\u001b[0m\u001b[0m\n\u001b[1;32m     11\u001b[0m   \u001b[0;31m# Get nearest centroid to each point based on distance\u001b[0m\u001b[0;34m\u001b[0m\u001b[0;34m\u001b[0m\u001b[0;34m\u001b[0m\u001b[0m\n",
            "\u001b[0;32m/usr/local/lib/python3.6/dist-packages/scipy/spatial/distance.py\u001b[0m in \u001b[0;36mcdist\u001b[0;34m(XA, XB, metric, *args, **kwargs)\u001b[0m\n\u001b[1;32m   2719\u001b[0m         \u001b[0;32mraise\u001b[0m \u001b[0mValueError\u001b[0m\u001b[0;34m(\u001b[0m\u001b[0;34m'XB must be a 2-dimensional array.'\u001b[0m\u001b[0;34m)\u001b[0m\u001b[0;34m\u001b[0m\u001b[0;34m\u001b[0m\u001b[0m\n\u001b[1;32m   2720\u001b[0m     \u001b[0;32mif\u001b[0m \u001b[0ms\u001b[0m\u001b[0;34m[\u001b[0m\u001b[0;36m1\u001b[0m\u001b[0;34m]\u001b[0m \u001b[0;34m!=\u001b[0m \u001b[0msB\u001b[0m\u001b[0;34m[\u001b[0m\u001b[0;36m1\u001b[0m\u001b[0;34m]\u001b[0m\u001b[0;34m:\u001b[0m\u001b[0;34m\u001b[0m\u001b[0;34m\u001b[0m\u001b[0m\n\u001b[0;32m-> 2721\u001b[0;31m         raise ValueError('XA and XB must have the same number of columns '\n\u001b[0m\u001b[1;32m   2722\u001b[0m                          '(i.e. feature dimension.)')\n\u001b[1;32m   2723\u001b[0m \u001b[0;34m\u001b[0m\u001b[0m\n",
            "\u001b[0;31mValueError\u001b[0m: XA and XB must have the same number of columns (i.e. feature dimension.)"
          ]
        }
      ]
    },
    {
      "cell_type": "code",
      "metadata": {
        "id": "XVZQLvfAFh60",
        "colab_type": "code",
        "colab": {
          "base_uri": "https://localhost:8080/",
          "height": 203
        },
        "outputId": "ab8d22cf-171a-4a8a-a64e-cd898ea0700d"
      },
      "source": [
        "def plot_clusters(df, column_header, centroids):\n",
        "  colors = {0:'red', 1:'green', 2:'yellow'}\n",
        "  fig, ax = plt.subplots()\n",
        "  ax.plot(centroids.iloc[0].x, centroids.iloc[0].y, \"ok\")\n",
        "  ax.plot(centroids.iloc[1].x, centroids.iloc[1].y, \"ok\")\n",
        "  ax.plot(centroids.iloc[2].x, centroids.iloc[2].y, \"ok\")\n",
        "  grouped = df.groupby(column_header)\n",
        "  for key, group in grouped:\n",
        "      group.plot(ax=ax, kind='scatter', x='x', y='y', label=key, color=colors[key])\n",
        "  plt.show()\n",
        "  \n",
        "plot_clusters(first_pass, 'cluster_1', centroids)"
      ],
      "execution_count": null,
      "outputs": [
        {
          "output_type": "error",
          "ename": "NameError",
          "evalue": "ignored",
          "traceback": [
            "\u001b[0;31m---------------------------------------------------------------------------\u001b[0m",
            "\u001b[0;31mNameError\u001b[0m                                 Traceback (most recent call last)",
            "\u001b[0;32m<ipython-input-302-3307aab4ffca>\u001b[0m in \u001b[0;36m<module>\u001b[0;34m()\u001b[0m\n\u001b[1;32m     10\u001b[0m   \u001b[0mplt\u001b[0m\u001b[0;34m.\u001b[0m\u001b[0mshow\u001b[0m\u001b[0;34m(\u001b[0m\u001b[0;34m)\u001b[0m\u001b[0;34m\u001b[0m\u001b[0;34m\u001b[0m\u001b[0m\n\u001b[1;32m     11\u001b[0m \u001b[0;34m\u001b[0m\u001b[0m\n\u001b[0;32m---> 12\u001b[0;31m \u001b[0mplot_clusters\u001b[0m\u001b[0;34m(\u001b[0m\u001b[0mfirst_pass\u001b[0m\u001b[0;34m,\u001b[0m \u001b[0;34m'cluster_1'\u001b[0m\u001b[0;34m,\u001b[0m \u001b[0mcentroids\u001b[0m\u001b[0;34m)\u001b[0m\u001b[0;34m\u001b[0m\u001b[0;34m\u001b[0m\u001b[0m\n\u001b[0m",
            "\u001b[0;31mNameError\u001b[0m: name 'first_pass' is not defined"
          ]
        }
      ]
    },
    {
      "cell_type": "code",
      "metadata": {
        "id": "I_6cOfkeFwWO",
        "colab_type": "code",
        "colab": {}
      },
      "source": [
        "def get_centroids(df, column_header):\n",
        "  new_centroids = df.groupby(column_header).mean()\n",
        "  return new_centroids\n",
        "\n",
        "centroids = get_centroids(first_pass, 'cluster_1')"
      ],
      "execution_count": null,
      "outputs": []
    },
    {
      "cell_type": "code",
      "metadata": {
        "id": "qyZLdP_nHKBa",
        "colab_type": "code",
        "colab": {}
      },
      "source": [
        "# Calculate New Centroids\n",
        "centroids = get_centroids(first_pass, 'cluster_1')\n",
        "\n",
        "# Get Clusters for New Centroids\n",
        "second_pass = find_nearest_centroid(first_pass.select_dtypes(exclude='int64'), centroids, '2')\n",
        "\n",
        "# Plot New Cluster\n",
        "plot_clusters(second_pass, 'cluster_2', centroids)"
      ],
      "execution_count": null,
      "outputs": []
    },
    {
      "cell_type": "code",
      "metadata": {
        "id": "kBueXP01G8tE",
        "colab_type": "code",
        "colab": {}
      },
      "source": [
        "# Calculate New Centroids\n",
        "centroids = get_centroids(second_pass, 'cluster_2')\n",
        "\n",
        "# Get Clusters for New Centroids\n",
        "third_pass = find_nearest_centroid(second_pass.select_dtypes(exclude='int64'), centroids, '3')\n",
        "\n",
        "# Plot New Cluster\n",
        "plot_clusters(third_pass, 'cluster_3', centroids)"
      ],
      "execution_count": null,
      "outputs": []
    },
    {
      "cell_type": "code",
      "metadata": {
        "id": "77uEDG4JPnxh",
        "colab_type": "code",
        "colab": {}
      },
      "source": [
        "convergence = np.array_equal(second_pass['cluster_2'], third_pass['cluster_3'])\n",
        "\n",
        "print(\"Are we at convergence?? - \", convergence)"
      ],
      "execution_count": null,
      "outputs": []
    },
    {
      "cell_type": "code",
      "metadata": {
        "id": "fm5GqnjAWp8X",
        "colab_type": "code",
        "colab": {}
      },
      "source": [
        "class KMeansCluster:    \n",
        "    def __init__(self, k):\n",
        "        self.k = k      # number of clusters you want it to identify\n",
        "        self.means = None       # mean cluster point values\n",
        "    def predict(self, input):\n",
        "      eachk = range(self.k)\n",
        "      closest = min(eachk, key=lambda i: euclidean(input, self.means[i])**2)\n",
        "      return closest\n",
        "    def fit(self, inputs):\n",
        "        self.means =  random.sample(list(inputs), self.k)\n",
        "        clusters = None\n",
        "        while True:\n",
        "            recluster = map(self.predict, inputs)\n",
        "            if clusters == recluster:\n",
        "                return\n",
        "            clusters = recluster\n",
        "            for i in range(self.k):\n",
        "                coords = [c for c, m in zip(inputs, clusters) if m == i]\n",
        "                if coords:\n",
        "                    self.means[i] = np.mean(coords, axis=0)"
      ],
      "execution_count": 37,
      "outputs": []
    }
  ]
}